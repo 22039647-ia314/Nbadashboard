{
 "cells": [
  {
   "cell_type": "code",
   "execution_count": 5,
   "id": "7c46ea86-a716-4812-a40d-13adc9b71d2f",
   "metadata": {},
   "outputs": [
    {
     "name": "stdout",
     "output_type": "stream",
     "text": [
      "Requirement already satisfied: nba_api in c:\\python312\\lib\\site-packages (1.4.1)\n",
      "Requirement already satisfied: pandas in c:\\python312\\lib\\site-packages (2.2.2)\n",
      "Requirement already satisfied: matplotlib in c:\\python312\\lib\\site-packages (3.8.4)\n",
      "Requirement already satisfied: seaborn in c:\\python312\\lib\\site-packages (0.13.2)\n",
      "Requirement already satisfied: scikit-learn in c:\\python312\\lib\\site-packages (1.4.2)\n",
      "Requirement already satisfied: certifi<2024.0.0,>=2023.7.22 in c:\\python312\\lib\\site-packages (from nba_api) (2023.11.17)\n",
      "Requirement already satisfied: numpy<2.0.0,>=1.22.2 in c:\\python312\\lib\\site-packages (from nba_api) (1.26.4)\n",
      "Requirement already satisfied: requests<3.0,>=2.31 in c:\\python312\\lib\\site-packages (from nba_api) (2.31.0)\n",
      "Requirement already satisfied: python-dateutil>=2.8.2 in c:\\python312\\lib\\site-packages (from pandas) (2.9.0.post0)\n",
      "Requirement already satisfied: pytz>=2020.1 in c:\\python312\\lib\\site-packages (from pandas) (2024.1)\n",
      "Requirement already satisfied: tzdata>=2022.7 in c:\\python312\\lib\\site-packages (from pandas) (2024.1)\n",
      "Requirement already satisfied: contourpy>=1.0.1 in c:\\python312\\lib\\site-packages (from matplotlib) (1.2.1)\n",
      "Requirement already satisfied: cycler>=0.10 in c:\\python312\\lib\\site-packages (from matplotlib) (0.12.1)\n",
      "Requirement already satisfied: fonttools>=4.22.0 in c:\\python312\\lib\\site-packages (from matplotlib) (4.51.0)\n",
      "Requirement already satisfied: kiwisolver>=1.3.1 in c:\\python312\\lib\\site-packages (from matplotlib) (1.4.5)\n",
      "Requirement already satisfied: packaging>=20.0 in c:\\python312\\lib\\site-packages (from matplotlib) (24.0)\n",
      "Requirement already satisfied: pillow>=8 in c:\\python312\\lib\\site-packages (from matplotlib) (10.3.0)\n",
      "Requirement already satisfied: pyparsing>=2.3.1 in c:\\python312\\lib\\site-packages (from matplotlib) (3.1.2)\n",
      "Requirement already satisfied: scipy>=1.6.0 in c:\\python312\\lib\\site-packages (from scikit-learn) (1.13.0)\n",
      "Requirement already satisfied: joblib>=1.2.0 in c:\\python312\\lib\\site-packages (from scikit-learn) (1.4.2)\n",
      "Requirement already satisfied: threadpoolctl>=2.0.0 in c:\\python312\\lib\\site-packages (from scikit-learn) (3.5.0)\n",
      "Requirement already satisfied: six>=1.5 in c:\\python312\\lib\\site-packages (from python-dateutil>=2.8.2->pandas) (1.16.0)\n",
      "Requirement already satisfied: charset-normalizer<4,>=2 in c:\\python312\\lib\\site-packages (from requests<3.0,>=2.31->nba_api) (3.3.2)\n",
      "Requirement already satisfied: idna<4,>=2.5 in c:\\python312\\lib\\site-packages (from requests<3.0,>=2.31->nba_api) (3.7)\n",
      "Requirement already satisfied: urllib3<3,>=1.21.1 in c:\\python312\\lib\\site-packages (from requests<3.0,>=2.31->nba_api) (2.2.1)\n"
     ]
    }
   ],
   "source": [
    "!pip install nba_api pandas matplotlib seaborn scikit-learn\n"
   ]
  },
  {
   "cell_type": "code",
   "execution_count": 6,
   "id": "87f5405b-eccf-489f-964a-8d0eec38fad0",
   "metadata": {},
   "outputs": [],
   "source": [
    "import pandas as pd\n",
    "from nba_api.stats.endpoints import playercareerstats, commonplayerinfo\n"
   ]
  },
  {
   "cell_type": "code",
   "execution_count": 7,
   "id": "92f702e6-8994-4c08-a26f-cfb4f25ca037",
   "metadata": {},
   "outputs": [],
   "source": [
    "# Fetch career stats for a list of players\n",
    "player_ids = ['203999', '201939', '2544']  # Jokic, Curry, LeBron James\n",
    "data_frames = [playercareerstats.PlayerCareerStats(player_id=pid).get_data_frames()[0] for pid in player_ids]\n",
    "\n",
    "# Concatenate data frames\n",
    "all_players_df = pd.concat(data_frames, ignore_index=True)\n",
    "all_players_df['PlayerID'] = all_players_df['PLAYER_ID'].astype(str)\n",
    "\n",
    "# Save the combined data\n",
    "all_players_df.to_csv('all_players_stats.csv', index=False)\n"
   ]
  },
  {
   "cell_type": "code",
   "execution_count": 9,
   "id": "8cf3222d-1e0b-4a3b-89c4-6de486462507",
   "metadata": {},
   "outputs": [],
   "source": [
    "# Calculate a basic efficiency rating\n",
    "all_players_df['Efficiency'] = (all_players_df['PTS'] + all_players_df['REB'] + all_players_df['AST'] + \n",
    "                                all_players_df['STL'] + all_players_df['BLK'] - all_players_df['TOV']) / all_players_df['GP']\n",
    "\n",
    "# Save the results\n",
    "all_players_df.to_csv('players_efficiency.csv', index=False)\n"
   ]
  },
  {
   "cell_type": "code",
   "execution_count": 10,
   "id": "e66b9ad7-38d4-4fd7-a595-0bc0e9dc6e6c",
   "metadata": {},
   "outputs": [],
   "source": [
    "all_players_df.to_json('players_stats.json', orient='records')\n"
   ]
  },
  {
   "cell_type": "code",
   "execution_count": null,
   "id": "c99b88e3-31b9-4e2c-acee-a31a4c9f78f3",
   "metadata": {},
   "outputs": [],
   "source": []
  }
 ],
 "metadata": {
  "kernelspec": {
   "display_name": "Python 3 (ipykernel)",
   "language": "python",
   "name": "python3"
  },
  "language_info": {
   "codemirror_mode": {
    "name": "ipython",
    "version": 3
   },
   "file_extension": ".py",
   "mimetype": "text/x-python",
   "name": "python",
   "nbconvert_exporter": "python",
   "pygments_lexer": "ipython3",
   "version": "3.12.3"
  }
 },
 "nbformat": 4,
 "nbformat_minor": 5
}
